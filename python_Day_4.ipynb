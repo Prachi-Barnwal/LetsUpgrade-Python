{
  "nbformat": 4,
  "nbformat_minor": 0,
  "metadata": {
    "colab": {
      "name": "python Day 4",
      "provenance": []
    },
    "kernelspec": {
      "name": "python3",
      "display_name": "Python 3"
    }
  },
  "cells": [
    {
      "cell_type": "code",
      "metadata": {
        "id": "KlGBs-3ZXmNt",
        "colab_type": "code",
        "colab": {
          "base_uri": "https://localhost:8080/",
          "height": 34
        },
        "outputId": "3cfbe5a5-beb7-4c83-e6e0-5254b51048eb"
      },
      "source": [
        "print(\"LetsUpgrade - Day 4 Assignment of python \");"
      ],
      "execution_count": null,
      "outputs": [
        {
          "output_type": "stream",
          "text": [
            "LetsUpgrade - Day 4 Assignment of python \n"
          ],
          "name": "stdout"
        }
      ]
    },
    {
      "cell_type": "code",
      "metadata": {
        "id": "GCdjvoLeYK2D",
        "colab_type": "code",
        "colab": {}
      },
      "source": [
        "# Question 1: Print the First ArmStrong Number in the Range of 1042000 to 702648265 and exit the loop as soon as you encounter the First ArmStrong Number. Use While Loop."
      ],
      "execution_count": null,
      "outputs": []
    },
    {
      "cell_type": "code",
      "metadata": {
        "id": "B1yQg42bZGaY",
        "colab_type": "code",
        "colab": {
          "base_uri": "https://localhost:8080/",
          "height": 34
        },
        "outputId": "3c5c86a4-60fb-431c-fd5c-21108b70f9e1"
      },
      "source": [
        "for num in range(1042000, 702648265):  \n",
        "    order = len(str(num))\n",
        "    sum = 0\n",
        "    temp = num  \n",
        "    while temp != 0:\n",
        "        dig = temp % 10\n",
        "        sum += dig ** order\n",
        "        temp //= 10\n",
        "    if num == sum:\n",
        "        print(\"The First Armstrong Number is ::\", num)\n",
        "        break  "
      ],
      "execution_count": 11,
      "outputs": [
        {
          "output_type": "stream",
          "text": [
            "The First Armstrong Number is :: 1741725\n"
          ],
          "name": "stdout"
        }
      ]
    },
    {
      "cell_type": "code",
      "metadata": {
        "id": "uiYqL_aGitJq",
        "colab_type": "code",
        "colab": {}
      },
      "source": [
        ""
      ],
      "execution_count": null,
      "outputs": []
    }
  ]
}