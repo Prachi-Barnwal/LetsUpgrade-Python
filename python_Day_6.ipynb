{
  "nbformat": 4,
  "nbformat_minor": 0,
  "metadata": {
    "colab": {
      "name": "python Day 6",
      "provenance": [],
      "collapsed_sections": []
    },
    "kernelspec": {
      "name": "python3",
      "display_name": "Python 3"
    }
  },
  "cells": [
    {
      "cell_type": "code",
      "metadata": {
        "id": "fJ5znu1wXb7L",
        "colab_type": "code",
        "colab": {
          "base_uri": "https://localhost:8080/",
          "height": 34
        },
        "outputId": "70826ea4-2a29-41e6-d23d-8f7aae5e5f0e"
      },
      "source": [
        "print(\"LetsUpgrade - Day 6 Assignment of python \");"
      ],
      "execution_count": null,
      "outputs": [
        {
          "output_type": "stream",
          "text": [
            "LetsUpgrade - Day 6 Assignment of python \n"
          ],
          "name": "stdout"
        }
      ]
    },
    {
      "cell_type": "markdown",
      "metadata": {
        "id": "WIYgpi1tXpzE",
        "colab_type": "text"
      },
      "source": [
        "## ***Question 1 :-***"
      ]
    },
    {
      "cell_type": "code",
      "metadata": {
        "id": "qwvNgN70Xg6G",
        "colab_type": "code",
        "colab": {}
      },
      "source": [
        "# For this challenge, create a bank account class that has two attributes\n",
        "# *OwnerName\n",
        "# *Balance\n",
        "# And two methods\n",
        "# *deposits\n",
        "# *withdraw\n",
        "# As an added requirement, withdrawalas may not exceed the available balance.\n",
        "\n",
        "# Instantiate your class, make several deposits and withdrawalas, and test to make sure the account can't be overdrawn."
      ],
      "execution_count": null,
      "outputs": []
    },
    {
      "cell_type": "code",
      "metadata": {
        "id": "lkSIaXXGb-hE",
        "colab_type": "code",
        "colab": {}
      },
      "source": [
        "class bank_account():\n",
        "    def __init__(self, ownername, balance):\n",
        "        self.ownername = ownername\n",
        "        self.balance = balance\n",
        "\n",
        "    def getDetails(self):\n",
        "        print(\"OwnerName : \",self.ownername)\n",
        "        print(\"Balance : \",self.balance)\n",
        "\n",
        "    def deposits(self, money_paid):\n",
        "        self.money_paid = pay(money_paid)\n",
        "        print(\"Money Deposited : \",self.money_paid)\n",
        "        print(\"Total Money in the Account is : \",self.balance + self.money_paid)\n",
        "        self.balance = self.balance + self.money_paid\n",
        "\n",
        "    def withdraw(self, money_withdraw):\n",
        "        self.money_withdraw = draw(money_withdraw)\n",
        "        if self.balance < money_withdraw:\n",
        "          print(\"Money can not be Withdrawn as there is Insuficient Balance in the Account\")\n",
        "          print(\"Amount in your Account is : \", self.balance)\n",
        "        else:\n",
        "          print(\"Money Withdrawn : \",self.money_withdraw)\n",
        "          print(\"Total Money in the Account is : \",self.balance - self.money_withdraw)\n",
        "        self.balance = self.balance - self.money_withdraw\n",
        "\n",
        "def pay(money_paid):\n",
        "     return money_paid \n",
        "\n",
        "  \n",
        "def draw(money_drawn):\n",
        "       return money_drawn\n",
        "     \n"
      ],
      "execution_count": null,
      "outputs": []
    },
    {
      "cell_type": "code",
      "metadata": {
        "id": "Jf7p7wIidzkl",
        "colab_type": "code",
        "colab": {}
      },
      "source": [
        "SBI = bank_account(\"Jolly\", 500000)"
      ],
      "execution_count": null,
      "outputs": []
    },
    {
      "cell_type": "code",
      "metadata": {
        "id": "DwOVMMbldznk",
        "colab_type": "code",
        "colab": {
          "base_uri": "https://localhost:8080/",
          "height": 51
        },
        "outputId": "707bc543-4722-4d4b-9a17-09e758872146"
      },
      "source": [
        "SBI.getDetails()"
      ],
      "execution_count": null,
      "outputs": [
        {
          "output_type": "stream",
          "text": [
            "OwnerName :  Jolly\n",
            "Balance :  500000\n"
          ],
          "name": "stdout"
        }
      ]
    },
    {
      "cell_type": "code",
      "metadata": {
        "id": "nHYUiPOch7af",
        "colab_type": "code",
        "colab": {
          "base_uri": "https://localhost:8080/",
          "height": 51
        },
        "outputId": "a52437ca-e4be-461f-b161-63471b4ece32"
      },
      "source": [
        "SBI.deposits(2000)"
      ],
      "execution_count": null,
      "outputs": [
        {
          "output_type": "stream",
          "text": [
            "Money Deposited :  2000\n",
            "Total Money in the Account is :  502000\n"
          ],
          "name": "stdout"
        }
      ]
    },
    {
      "cell_type": "code",
      "metadata": {
        "id": "bZUgwvup9-8M",
        "colab_type": "code",
        "colab": {
          "base_uri": "https://localhost:8080/",
          "height": 51
        },
        "outputId": "1e26a88c-2a0f-41bb-af8f-1383d3166cee"
      },
      "source": [
        "SBI.withdraw(5000)"
      ],
      "execution_count": null,
      "outputs": [
        {
          "output_type": "stream",
          "text": [
            "Money Withdrawn :  5000\n",
            "Total Money in the Account is :  497000\n"
          ],
          "name": "stdout"
        }
      ]
    },
    {
      "cell_type": "code",
      "metadata": {
        "id": "SZnsD466EHKO",
        "colab_type": "code",
        "colab": {
          "base_uri": "https://localhost:8080/",
          "height": 51
        },
        "outputId": "811caf8a-50a5-4366-bc17-81915c980541"
      },
      "source": [
        "SBI.withdraw(10000)"
      ],
      "execution_count": null,
      "outputs": [
        {
          "output_type": "stream",
          "text": [
            "Money Withdrawn :  10000\n",
            "Total Money in the Account is :  487000\n"
          ],
          "name": "stdout"
        }
      ]
    },
    {
      "cell_type": "code",
      "metadata": {
        "id": "Ph1F25-FEHU_",
        "colab_type": "code",
        "colab": {
          "base_uri": "https://localhost:8080/",
          "height": 51
        },
        "outputId": "88fb7c9f-ef5a-4be4-b464-2d9994e7ce02"
      },
      "source": [
        "SBI.deposits(20000)"
      ],
      "execution_count": null,
      "outputs": [
        {
          "output_type": "stream",
          "text": [
            "Money Deposited :  20000\n",
            "Total Money in the Account is :  507000\n"
          ],
          "name": "stdout"
        }
      ]
    },
    {
      "cell_type": "code",
      "metadata": {
        "id": "4D1pXRvSEHfY",
        "colab_type": "code",
        "colab": {
          "base_uri": "https://localhost:8080/",
          "height": 51
        },
        "outputId": "c5893ff5-0da5-46e8-ef96-b745e8b5c0be"
      },
      "source": [
        "SBI.withdraw(250000)"
      ],
      "execution_count": null,
      "outputs": [
        {
          "output_type": "stream",
          "text": [
            "Money Withdrawn :  250000\n",
            "Total Money in the Account is :  257000\n"
          ],
          "name": "stdout"
        }
      ]
    },
    {
      "cell_type": "code",
      "metadata": {
        "id": "0Xdvfb2_EytL",
        "colab_type": "code",
        "colab": {
          "base_uri": "https://localhost:8080/",
          "height": 51
        },
        "outputId": "de703475-1941-4aed-eda6-95e4c878adb2"
      },
      "source": [
        "SBI.withdraw(300000)"
      ],
      "execution_count": null,
      "outputs": [
        {
          "output_type": "stream",
          "text": [
            "Money can not be Withdrawn as there is Insuficient Balance in the Account\n",
            "Amount in your Account is :  257000\n"
          ],
          "name": "stdout"
        }
      ]
    },
    {
      "cell_type": "markdown",
      "metadata": {
        "id": "XpxWqBHKXuK-",
        "colab_type": "text"
      },
      "source": [
        "## ***Question 2 :- ***"
      ]
    },
    {
      "cell_type": "code",
      "metadata": {
        "id": "jbg3wC7WX0Cm",
        "colab_type": "code",
        "colab": {}
      },
      "source": [
        "# For this challange, create a cone class that has two attributes:\n",
        "# *r=Radius\n",
        "# *h=Height\n",
        "# And two methods:\n",
        "# volume=3.14(value of pie)*r2=(h/3)\n",
        "# surface area:base:3.14(value of pie)*r2,side:3.14(value of pie)*r*(rootover(r2+h2))\n",
        "# make only one class with functions, as in where required import math."
      ],
      "execution_count": null,
      "outputs": []
    },
    {
      "cell_type": "code",
      "metadata": {
        "id": "AR64beiAb_h4",
        "colab_type": "code",
        "colab": {}
      },
      "source": [
        "class cone():\n",
        "    def __init__(self, radius, height):\n",
        "        self.radius = radius\n",
        "        self.height = height\n",
        "\n",
        "    def getDetails(self):\n",
        "        print(\"Radius of a Cone is : \",self.radius)\n",
        "        print(\"Height of a Cone is : \",self.height)\n",
        "\n",
        "    def volume(self, r, h):\n",
        "        self.vol = vol(r, h)\n",
        "        print(\"Volume of a Cone is : \",self.vol)\n",
        "\n",
        "    def surface_area(self, r, h):\n",
        "        self.area = sur_area(r, h)\n",
        "        print(\"Surface Area of a Cone is : \",self.area)\n",
        "          \n",
        "def vol(radius, height):\n",
        "     v = 3.14*radius*radius*(height/3)\n",
        "     return v\n",
        "\n",
        "import math\n",
        "def sur_area(radius, height):\n",
        "     a = 3.14*radius*(radius + (math.sqrt(height*height + radius*radius)))\n",
        "     return a\n",
        "     \n"
      ],
      "execution_count": null,
      "outputs": []
    },
    {
      "cell_type": "code",
      "metadata": {
        "id": "2URDBSd5p-fY",
        "colab_type": "code",
        "colab": {}
      },
      "source": [
        "ram = cone(5,2)"
      ],
      "execution_count": null,
      "outputs": []
    },
    {
      "cell_type": "code",
      "metadata": {
        "id": "4IwYiEyjqLqK",
        "colab_type": "code",
        "colab": {
          "base_uri": "https://localhost:8080/",
          "height": 51
        },
        "outputId": "f051a68f-37b2-49e4-ee0e-c315064ca230"
      },
      "source": [
        "ram.getDetails()"
      ],
      "execution_count": null,
      "outputs": [
        {
          "output_type": "stream",
          "text": [
            "Radius of a Cone is :  5\n",
            "Height of a Cone is :  2\n"
          ],
          "name": "stdout"
        }
      ]
    },
    {
      "cell_type": "code",
      "metadata": {
        "id": "eRHxLF72u2Pa",
        "colab_type": "code",
        "colab": {
          "base_uri": "https://localhost:8080/",
          "height": 34
        },
        "outputId": "82e984eb-c235-4241-bc49-706188fe619b"
      },
      "source": [
        "ram.volume(5, 2)"
      ],
      "execution_count": null,
      "outputs": [
        {
          "output_type": "stream",
          "text": [
            "Volume of a Cone is :  52.33333333333333\n"
          ],
          "name": "stdout"
        }
      ]
    },
    {
      "cell_type": "code",
      "metadata": {
        "id": "b7WkG4y1vLnN",
        "colab_type": "code",
        "colab": {
          "base_uri": "https://localhost:8080/",
          "height": 34
        },
        "outputId": "b69fdc70-c2c0-46b5-aa21-5da74c1906d2"
      },
      "source": [
        "ram.surface_area(5, 2)"
      ],
      "execution_count": null,
      "outputs": [
        {
          "output_type": "stream",
          "text": [
            "Surface Area of a Cone is :  163.04708747201173\n"
          ],
          "name": "stdout"
        }
      ]
    },
    {
      "cell_type": "code",
      "metadata": {
        "id": "5jeE9qe00NUK",
        "colab_type": "code",
        "colab": {}
      },
      "source": [
        ""
      ],
      "execution_count": null,
      "outputs": []
    }
  ]
}