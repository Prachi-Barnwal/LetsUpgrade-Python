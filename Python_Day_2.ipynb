{
  "nbformat": 4,
  "nbformat_minor": 0,
  "metadata": {
    "colab": {
      "name": "Python Day 2",
      "provenance": [],
      "collapsed_sections": []
    },
    "kernelspec": {
      "name": "python3",
      "display_name": "Python 3"
    }
  },
  "cells": [
    {
      "cell_type": "code",
      "metadata": {
        "id": "W1AytsknY8Nb",
        "colab_type": "code",
        "colab": {
          "base_uri": "https://localhost:8080/",
          "height": 34
        },
        "outputId": "c137940e-64e8-4f8c-cbc8-7bca26a4f9d5"
      },
      "source": [
        "print(\"LetsUpgrade - Day 2 Assignment of python \");"
      ],
      "execution_count": null,
      "outputs": [
        {
          "output_type": "stream",
          "text": [
            "LetsUpgrade - Day 2 Assignment of python \n"
          ],
          "name": "stdout"
        }
      ]
    },
    {
      "cell_type": "markdown",
      "metadata": {
        "id": "LncIJMD_5SSb",
        "colab_type": "text"
      },
      "source": [
        "# ***LIST***"
      ]
    },
    {
      "cell_type": "code",
      "metadata": {
        "id": "OUeSuBvpbFvd",
        "colab_type": "code",
        "colab": {}
      },
      "source": [
        "# To Create a List\n",
        "lst = [\"Sema\", \"Angle\", 75439, 74569.53, [7, 5, 9, 2]]"
      ],
      "execution_count": null,
      "outputs": []
    },
    {
      "cell_type": "code",
      "metadata": {
        "id": "p2drbS0wcnN3",
        "colab_type": "code",
        "colab": {
          "base_uri": "https://localhost:8080/",
          "height": 34
        },
        "outputId": "7df39dd5-97c1-4a22-d446-4e6c516ab4aa"
      },
      "source": [
        "# To Display List\n",
        "lst"
      ],
      "execution_count": null,
      "outputs": [
        {
          "output_type": "execute_result",
          "data": {
            "text/plain": [
              "['Sema', 'Angle', 75439, 74569.53, [7, 5, 9, 2]]"
            ]
          },
          "metadata": {
            "tags": []
          },
          "execution_count": 7
        }
      ]
    },
    {
      "cell_type": "code",
      "metadata": {
        "id": "3BQ0V8BDc4ps",
        "colab_type": "code",
        "colab": {
          "base_uri": "https://localhost:8080/",
          "height": 35
        },
        "outputId": "f819c7e7-d02a-49c8-d6b9-ebde8a29dcb0"
      },
      "source": [
        "lst [0]"
      ],
      "execution_count": null,
      "outputs": [
        {
          "output_type": "execute_result",
          "data": {
            "application/vnd.google.colaboratory.intrinsic+json": {
              "type": "string"
            },
            "text/plain": [
              "'Sema'"
            ]
          },
          "metadata": {
            "tags": []
          },
          "execution_count": 8
        }
      ]
    },
    {
      "cell_type": "code",
      "metadata": {
        "id": "_k7elqaydi2N",
        "colab_type": "code",
        "colab": {}
      },
      "source": [
        "# Append is used to add a subscript in a List a Last\n",
        "lst.append(\"Komal\")"
      ],
      "execution_count": null,
      "outputs": []
    },
    {
      "cell_type": "code",
      "metadata": {
        "id": "-8JvgmbgeKIr",
        "colab_type": "code",
        "colab": {
          "base_uri": "https://localhost:8080/",
          "height": 34
        },
        "outputId": "f42e8a4a-b38b-4d52-d38c-bd2ead456b5b"
      },
      "source": [
        "# Subscript is added in the List at Last\n",
        "lst"
      ],
      "execution_count": null,
      "outputs": [
        {
          "output_type": "execute_result",
          "data": {
            "text/plain": [
              "['Sema', 'Angle', 75439, 74569.53, [7, 5, 9, 2], 'Komal']"
            ]
          },
          "metadata": {
            "tags": []
          },
          "execution_count": 29
        }
      ]
    },
    {
      "cell_type": "code",
      "metadata": {
        "id": "Z5VA4ZkAeNFp",
        "colab_type": "code",
        "colab": {
          "base_uri": "https://localhost:8080/",
          "height": 34
        },
        "outputId": "9d6af47e-f21d-420a-d405-d59f6df3e67a"
      },
      "source": [
        "# Used to show the Subscript of the index\n",
        "lst [4]"
      ],
      "execution_count": null,
      "outputs": [
        {
          "output_type": "execute_result",
          "data": {
            "text/plain": [
              "[7, 5, 9, 2]"
            ]
          },
          "metadata": {
            "tags": []
          },
          "execution_count": 30
        }
      ]
    },
    {
      "cell_type": "code",
      "metadata": {
        "id": "H9GV90WgeVxj",
        "colab_type": "code",
        "colab": {
          "base_uri": "https://localhost:8080/",
          "height": 34
        },
        "outputId": "0d70605c-2612-4ba3-fbec-d68a9439f80c"
      },
      "source": [
        "lst [4][2]"
      ],
      "execution_count": null,
      "outputs": [
        {
          "output_type": "execute_result",
          "data": {
            "text/plain": [
              "9"
            ]
          },
          "metadata": {
            "tags": []
          },
          "execution_count": 31
        }
      ]
    },
    {
      "cell_type": "code",
      "metadata": {
        "id": "BXKADsYlefrg",
        "colab_type": "code",
        "colab": {
          "base_uri": "https://localhost:8080/",
          "height": 34
        },
        "outputId": "189f3624-0b96-44aa-c464-e8de911b81f2"
      },
      "source": [
        "# Pop is used to delete the Subscript from the List\n",
        "lst.pop(4)"
      ],
      "execution_count": null,
      "outputs": [
        {
          "output_type": "execute_result",
          "data": {
            "text/plain": [
              "[7, 5, 9, 2]"
            ]
          },
          "metadata": {
            "tags": []
          },
          "execution_count": 33
        }
      ]
    },
    {
      "cell_type": "code",
      "metadata": {
        "id": "TdMeKgnnerFH",
        "colab_type": "code",
        "colab": {
          "base_uri": "https://localhost:8080/",
          "height": 34
        },
        "outputId": "fb789410-6628-4555-c826-19e2ae67d448"
      },
      "source": [
        "# List is displayed  \n",
        "lst"
      ],
      "execution_count": null,
      "outputs": [
        {
          "output_type": "execute_result",
          "data": {
            "text/plain": [
              "['Sema', 'Angle', 75439, 74569.53, 'Komal']"
            ]
          },
          "metadata": {
            "tags": []
          },
          "execution_count": 34
        }
      ]
    },
    {
      "cell_type": "code",
      "metadata": {
        "id": "4_Co-JsSf3rk",
        "colab_type": "code",
        "colab": {}
      },
      "source": [
        "# reverse is used to reverse the List\n",
        "lst.reverse()"
      ],
      "execution_count": null,
      "outputs": []
    },
    {
      "cell_type": "code",
      "metadata": {
        "id": "pGKgeWBKf6-o",
        "colab_type": "code",
        "colab": {
          "base_uri": "https://localhost:8080/",
          "height": 34
        },
        "outputId": "bbe48441-b40a-48a3-94d8-61f252ae3884"
      },
      "source": [
        "# reversed List is displayed\n",
        "lst"
      ],
      "execution_count": null,
      "outputs": [
        {
          "output_type": "execute_result",
          "data": {
            "text/plain": [
              "['Komal', 74569.53, 75439, 'Angle', 'Sema']"
            ]
          },
          "metadata": {
            "tags": []
          },
          "execution_count": 37
        }
      ]
    },
    {
      "cell_type": "code",
      "metadata": {
        "id": "dXWqW-vDgAmK",
        "colab_type": "code",
        "colab": {
          "base_uri": "https://localhost:8080/",
          "height": 34
        },
        "outputId": "1dcb30d8-dea6-4504-c5d6-4b817fcc2232"
      },
      "source": [
        "# count is used to count the number of time Subscript have same element\n",
        "lst.count(75439)"
      ],
      "execution_count": null,
      "outputs": [
        {
          "output_type": "execute_result",
          "data": {
            "text/plain": [
              "1"
            ]
          },
          "metadata": {
            "tags": []
          },
          "execution_count": 42
        }
      ]
    },
    {
      "cell_type": "code",
      "metadata": {
        "id": "3-_kY09QgIwk",
        "colab_type": "code",
        "colab": {}
      },
      "source": [
        "# Second List is created\n",
        "lst2 = [\"Riya\", 345]"
      ],
      "execution_count": null,
      "outputs": []
    },
    {
      "cell_type": "code",
      "metadata": {
        "id": "8GaTj-ZKyiaj",
        "colab_type": "code",
        "colab": {}
      },
      "source": [
        "# extend is use to modify the original list\n",
        "lst2.extend(lst)"
      ],
      "execution_count": null,
      "outputs": []
    },
    {
      "cell_type": "code",
      "metadata": {
        "id": "VvygJtN1zijp",
        "colab_type": "code",
        "colab": {
          "base_uri": "https://localhost:8080/",
          "height": 34
        },
        "outputId": "4828bbb7-6dff-41f0-9dae-120f4f2c29e2"
      },
      "source": [
        "# due to extend function lst Subscript are added to lst2 Subscripts\n",
        "lst2"
      ],
      "execution_count": null,
      "outputs": [
        {
          "output_type": "execute_result",
          "data": {
            "text/plain": [
              "['Riya', 345, 'Komal', 74569.53, 75439, 'Angle', 'Sema']"
            ]
          },
          "metadata": {
            "tags": []
          },
          "execution_count": 48
        }
      ]
    },
    {
      "cell_type": "markdown",
      "metadata": {
        "id": "H4G_khf95Ctk",
        "colab_type": "text"
      },
      "source": [
        "\n",
        "# ***DICTIONARY***\n",
        "---\n",
        "\n"
      ]
    },
    {
      "cell_type": "code",
      "metadata": {
        "id": "5u8HMTH91jl0",
        "colab_type": "code",
        "colab": {}
      },
      "source": [
        "# dit is used to create a dictionary\n",
        "dit = {\"Name\":\"Happy Singh\", \"Age\":\"22\", \"Mobile No.\":7291054963, \"Email ID\":\"singhishappy@.com\"}"
      ],
      "execution_count": null,
      "outputs": []
    },
    {
      "cell_type": "code",
      "metadata": {
        "id": "cXfkK8qZ25zQ",
        "colab_type": "code",
        "colab": {
          "base_uri": "https://localhost:8080/",
          "height": 85
        },
        "outputId": "da4580ad-1f95-44bc-c547-52330cb1a3a2"
      },
      "source": [
        "# dit is created\n",
        "dit"
      ],
      "execution_count": null,
      "outputs": [
        {
          "output_type": "execute_result",
          "data": {
            "text/plain": [
              "{'Age': '22',\n",
              " 'Email ID': 'singhishappy@.com',\n",
              " 'Mobile No.': 7291054963,\n",
              " 'Name': 'Happy Singh'}"
            ]
          },
          "metadata": {
            "tags": []
          },
          "execution_count": 66
        }
      ]
    },
    {
      "cell_type": "code",
      "metadata": {
        "id": "w75ecOBM27Fo",
        "colab_type": "code",
        "colab": {
          "base_uri": "https://localhost:8080/",
          "height": 35
        },
        "outputId": "1a0eed13-37c8-4c00-97a6-5ce28956cb56"
      },
      "source": [
        "# setdefault add new subscript in dit\n",
        "dit.setdefault(\"Course\",\"B.Tech\")"
      ],
      "execution_count": null,
      "outputs": [
        {
          "output_type": "execute_result",
          "data": {
            "application/vnd.google.colaboratory.intrinsic+json": {
              "type": "string"
            },
            "text/plain": [
              "'B.Tech'"
            ]
          },
          "metadata": {
            "tags": []
          },
          "execution_count": 68
        }
      ]
    },
    {
      "cell_type": "code",
      "metadata": {
        "id": "AYy_N00i6bGM",
        "colab_type": "code",
        "colab": {
          "base_uri": "https://localhost:8080/",
          "height": 102
        },
        "outputId": "da707261-1912-422d-c243-e978f7fe7a43"
      },
      "source": [
        "# dit is displayed\n",
        "dit"
      ],
      "execution_count": null,
      "outputs": [
        {
          "output_type": "execute_result",
          "data": {
            "text/plain": [
              "{'Age': '22',\n",
              " 'Course': 'B.Tech',\n",
              " 'Email ID': 'singhishappy@.com',\n",
              " 'Mobile No.': 7291054963,\n",
              " 'Name': 'Happy Singh'}"
            ]
          },
          "metadata": {
            "tags": []
          },
          "execution_count": 69
        }
      ]
    },
    {
      "cell_type": "code",
      "metadata": {
        "id": "0RAXPH8V9tnh",
        "colab_type": "code",
        "colab": {
          "base_uri": "https://localhost:8080/",
          "height": 35
        },
        "outputId": "f9512697-ffe9-4bb3-bbcc-03d6b40f1a01"
      },
      "source": [
        "# get will help to show the Name\n",
        "dit.get(\"Name\")"
      ],
      "execution_count": null,
      "outputs": [
        {
          "output_type": "execute_result",
          "data": {
            "application/vnd.google.colaboratory.intrinsic+json": {
              "type": "string"
            },
            "text/plain": [
              "'Happy Singh'"
            ]
          },
          "metadata": {
            "tags": []
          },
          "execution_count": 75
        }
      ]
    },
    {
      "cell_type": "code",
      "metadata": {
        "id": "Df_0Ax41-Kta",
        "colab_type": "code",
        "colab": {}
      },
      "source": [
        "# dit2 is created and copy function will copy dit in dit2\n",
        "dit2=dit.copy()"
      ],
      "execution_count": null,
      "outputs": []
    },
    {
      "cell_type": "code",
      "metadata": {
        "id": "e2dNNX2g_T1m",
        "colab_type": "code",
        "colab": {
          "base_uri": "https://localhost:8080/",
          "height": 102
        },
        "outputId": "16f445e6-648a-4022-efc3-6bcc204ed2d1"
      },
      "source": [
        "# dit2 is displayed\n",
        "dit2"
      ],
      "execution_count": null,
      "outputs": [
        {
          "output_type": "execute_result",
          "data": {
            "text/plain": [
              "{'Age': '22',\n",
              " 'Course': 'B.Tech',\n",
              " 'Email ID': 'singhishappy@.com',\n",
              " 'Mobile No.': 7291054963,\n",
              " 'Name': 'Happy Singh'}"
            ]
          },
          "metadata": {
            "tags": []
          },
          "execution_count": 78
        }
      ]
    },
    {
      "cell_type": "code",
      "metadata": {
        "id": "r5cU1ppP_nw5",
        "colab_type": "code",
        "colab": {}
      },
      "source": [
        "# clear function will make dit2 empty\n",
        "dit2.clear()"
      ],
      "execution_count": null,
      "outputs": []
    },
    {
      "cell_type": "code",
      "metadata": {
        "id": "Nl2tLWgX_70S",
        "colab_type": "code",
        "colab": {
          "base_uri": "https://localhost:8080/",
          "height": 34
        },
        "outputId": "1b73cc57-4b16-4a18-8d5c-c2a687642ed9"
      },
      "source": [
        "# dit2 is empty\n",
        "dit2"
      ],
      "execution_count": null,
      "outputs": [
        {
          "output_type": "execute_result",
          "data": {
            "text/plain": [
              "{}"
            ]
          },
          "metadata": {
            "tags": []
          },
          "execution_count": 80
        }
      ]
    },
    {
      "cell_type": "code",
      "metadata": {
        "id": "sv2OTtNz_-RC",
        "colab_type": "code",
        "colab": {
          "base_uri": "https://localhost:8080/",
          "height": 34
        },
        "outputId": "9ee6a8b8-2b0d-496c-80a7-36a35cbb2c39"
      },
      "source": [
        "# fromkeys() is used to specify keys and its value\n",
        "x=('maths','english','hindi','computer')\n",
        "y=('100')\n",
        "dit.fromkeys(x,y)"
      ],
      "execution_count": null,
      "outputs": [
        {
          "output_type": "execute_result",
          "data": {
            "text/plain": [
              "{'computer': '100', 'english': '100', 'hindi': '100', 'maths': '100'}"
            ]
          },
          "metadata": {
            "tags": []
          },
          "execution_count": 82
        }
      ]
    },
    {
      "cell_type": "markdown",
      "metadata": {
        "id": "PSWturY7Cu0t",
        "colab_type": "text"
      },
      "source": [
        "## ***SETS***"
      ]
    },
    {
      "cell_type": "code",
      "metadata": {
        "id": "uYLRXQ_uC6LW",
        "colab_type": "code",
        "colab": {}
      },
      "source": [
        "# Two Sets are created st and st1\n",
        "st = {\"SAM\", \"c+=\", 10, 10, 20, 10, 50, 30, 50, 70}\n",
        "st1 = {\"REHA\", \"C+\", 10, 15, 20, 10, 50, 25, 40, 70}"
      ],
      "execution_count": null,
      "outputs": []
    },
    {
      "cell_type": "code",
      "metadata": {
        "id": "Ea4ykTXRDx0G",
        "colab_type": "code",
        "colab": {
          "base_uri": "https://localhost:8080/",
          "height": 34
        },
        "outputId": "7298e4e9-7592-48f0-dd48-578943b68dc9"
      },
      "source": [
        "# st set is displyed\n",
        "st"
      ],
      "execution_count": null,
      "outputs": [
        {
          "output_type": "execute_result",
          "data": {
            "text/plain": [
              "{10, 20, 30, 50, 70, 'SAM', 'c+='}"
            ]
          },
          "metadata": {
            "tags": []
          },
          "execution_count": 90
        }
      ]
    },
    {
      "cell_type": "code",
      "metadata": {
        "id": "4ZFQpgf3D03T",
        "colab_type": "code",
        "colab": {
          "base_uri": "https://localhost:8080/",
          "height": 34
        },
        "outputId": "0b411246-179e-4035-bc20-b3e55f795031"
      },
      "source": [
        "# st1 set is displyed\n",
        "st1"
      ],
      "execution_count": null,
      "outputs": [
        {
          "output_type": "execute_result",
          "data": {
            "text/plain": [
              "{10, 15, 20, 25, 40, 50, 70, 'C+', 'REHA'}"
            ]
          },
          "metadata": {
            "tags": []
          },
          "execution_count": 91
        }
      ]
    },
    {
      "cell_type": "code",
      "metadata": {
        "id": "Tc9x57NhD6Fk",
        "colab_type": "code",
        "colab": {
          "base_uri": "https://localhost:8080/",
          "height": 34
        },
        "outputId": "82dedb85-b1db-4424-ed3d-b52c3dabe035"
      },
      "source": [
        "# difference is used to find all the difference of st1 from st\n",
        "st1.difference(st)"
      ],
      "execution_count": null,
      "outputs": [
        {
          "output_type": "execute_result",
          "data": {
            "text/plain": [
              "{15, 25, 40, 'C+', 'REHA'}"
            ]
          },
          "metadata": {
            "tags": []
          },
          "execution_count": 92
        }
      ]
    },
    {
      "cell_type": "code",
      "metadata": {
        "id": "7tThwXDRFQ-6",
        "colab_type": "code",
        "colab": {
          "base_uri": "https://localhost:8080/",
          "height": 34
        },
        "outputId": "52a1dc62-97e3-47bf-ecc2-066fac312922"
      },
      "source": [
        "# issuperset is used to see that is st1 is the super set of st\n",
        "st.issuperset(st1)"
      ],
      "execution_count": null,
      "outputs": [
        {
          "output_type": "execute_result",
          "data": {
            "text/plain": [
              "False"
            ]
          },
          "metadata": {
            "tags": []
          },
          "execution_count": 93
        }
      ]
    },
    {
      "cell_type": "code",
      "metadata": {
        "id": "zRaHwBvfFZty",
        "colab_type": "code",
        "colab": {
          "base_uri": "https://localhost:8080/",
          "height": 34
        },
        "outputId": "205bdc05-0afb-4f7c-d796-2f671a2cce53"
      },
      "source": [
        "# issubset is used to see that is st1 is the sub set of st1(itself)\n",
        "st1.issubset(st1)"
      ],
      "execution_count": null,
      "outputs": [
        {
          "output_type": "execute_result",
          "data": {
            "text/plain": [
              "True"
            ]
          },
          "metadata": {
            "tags": []
          },
          "execution_count": 99
        }
      ]
    },
    {
      "cell_type": "code",
      "metadata": {
        "id": "uTxJKD_iFdoq",
        "colab_type": "code",
        "colab": {
          "base_uri": "https://localhost:8080/",
          "height": 34
        },
        "outputId": "96128db2-a7e8-435d-e6ee-de18b3ded1f6"
      },
      "source": [
        "# intersection is used to see that is st1 is the intersection of st\n",
        "st1.intersection(st)"
      ],
      "execution_count": null,
      "outputs": [
        {
          "output_type": "execute_result",
          "data": {
            "text/plain": [
              "{10, 20, 50, 70}"
            ]
          },
          "metadata": {
            "tags": []
          },
          "execution_count": 95
        }
      ]
    },
    {
      "cell_type": "code",
      "metadata": {
        "id": "0KPkb4EZFklD",
        "colab_type": "code",
        "colab": {
          "base_uri": "https://localhost:8080/",
          "height": 34
        },
        "outputId": "d40e7824-ef2e-4868-e06e-589a530d5345"
      },
      "source": [
        "# isdisjoint is used to see that is st1 is the isdisjoint of st\n",
        "st1.isdisjoint(st)"
      ],
      "execution_count": null,
      "outputs": [
        {
          "output_type": "execute_result",
          "data": {
            "text/plain": [
              "False"
            ]
          },
          "metadata": {
            "tags": []
          },
          "execution_count": 97
        }
      ]
    },
    {
      "cell_type": "markdown",
      "metadata": {
        "id": "O5duv2M_Il3B",
        "colab_type": "text"
      },
      "source": [
        "## ***TUPLE***"
      ]
    },
    {
      "cell_type": "code",
      "metadata": {
        "id": "jMqRjgW0IsY9",
        "colab_type": "code",
        "colab": {}
      },
      "source": [
        "# tup is used to creat Tpule\n",
        "tup = [\"Raja\", \"Ram\", \"Mohan\", \"Roy\"]"
      ],
      "execution_count": null,
      "outputs": []
    },
    {
      "cell_type": "code",
      "metadata": {
        "id": "MWrewhlxJT0K",
        "colab_type": "code",
        "colab": {
          "base_uri": "https://localhost:8080/",
          "height": 34
        },
        "outputId": "ce882c4f-c2f4-4320-9fd8-7e325cd19510"
      },
      "source": [
        "# Tuple is created\n",
        "tup"
      ],
      "execution_count": null,
      "outputs": [
        {
          "output_type": "execute_result",
          "data": {
            "text/plain": [
              "['Raja', 'Ram', 'Mohan', 'Roy']"
            ]
          },
          "metadata": {
            "tags": []
          },
          "execution_count": 109
        }
      ]
    },
    {
      "cell_type": "code",
      "metadata": {
        "id": "CqQgiei7JVZO",
        "colab_type": "code",
        "colab": {
          "base_uri": "https://localhost:8080/",
          "height": 34
        },
        "outputId": "505d580a-0f7f-4859-968e-0ec26a9f5232"
      },
      "source": [
        "# index of roy is shown\n",
        "tup.index(\"Roy\")"
      ],
      "execution_count": null,
      "outputs": [
        {
          "output_type": "execute_result",
          "data": {
            "text/plain": [
              "3"
            ]
          },
          "metadata": {
            "tags": []
          },
          "execution_count": 113
        }
      ]
    },
    {
      "cell_type": "code",
      "metadata": {
        "id": "UJr84NGzJeLL",
        "colab_type": "code",
        "colab": {}
      },
      "source": [
        "# new subscript Raja is added in the Tuple\n",
        "tup.insert(4,'Raja')"
      ],
      "execution_count": null,
      "outputs": []
    },
    {
      "cell_type": "code",
      "metadata": {
        "id": "u4ivMEaJKPWu",
        "colab_type": "code",
        "colab": {
          "base_uri": "https://localhost:8080/",
          "height": 34
        },
        "outputId": "0435d655-b06c-4e98-ac96-20337797f3e6"
      },
      "source": [
        "# updated tuple is displayed\n",
        "tup"
      ],
      "execution_count": null,
      "outputs": [
        {
          "output_type": "execute_result",
          "data": {
            "text/plain": [
              "['Raja', 'Ram', 'Mohan', 'Roy', 'Raja']"
            ]
          },
          "metadata": {
            "tags": []
          },
          "execution_count": 116
        }
      ]
    },
    {
      "cell_type": "code",
      "metadata": {
        "id": "ZWYqu08DK78d",
        "colab_type": "code",
        "colab": {
          "base_uri": "https://localhost:8080/",
          "height": 34
        },
        "outputId": "88a94cd4-beaf-4372-e738-94307f0a1ad5"
      },
      "source": [
        "# count is used to count how many time raja is there in the Tuple\n",
        "tup.count(\"Raja\")"
      ],
      "execution_count": null,
      "outputs": [
        {
          "output_type": "execute_result",
          "data": {
            "text/plain": [
              "2"
            ]
          },
          "metadata": {
            "tags": []
          },
          "execution_count": 117
        }
      ]
    },
    {
      "cell_type": "code",
      "metadata": {
        "id": "g5ehqjfkLCec",
        "colab_type": "code",
        "colab": {}
      },
      "source": [
        "# Tuple is sorted in alphabetical order\n",
        "tup.sort()"
      ],
      "execution_count": null,
      "outputs": []
    },
    {
      "cell_type": "code",
      "metadata": {
        "id": "0h6PivSVLNWe",
        "colab_type": "code",
        "colab": {
          "base_uri": "https://localhost:8080/",
          "height": 34
        },
        "outputId": "c821dd6d-1b26-421d-b289-dddcdfb3faca"
      },
      "source": [
        "# sorted Tuple is displayed\n",
        "tup"
      ],
      "execution_count": null,
      "outputs": [
        {
          "output_type": "execute_result",
          "data": {
            "text/plain": [
              "['Mohan', 'Raja', 'Raja', 'Ram', 'Roy']"
            ]
          },
          "metadata": {
            "tags": []
          },
          "execution_count": 119
        }
      ]
    },
    {
      "cell_type": "code",
      "metadata": {
        "id": "xVK9TJL_LQEj",
        "colab_type": "code",
        "colab": {}
      },
      "source": [
        "# remove is used to remove Raja from Tuple\n",
        "tup.remove(\"Raja\")"
      ],
      "execution_count": null,
      "outputs": []
    },
    {
      "cell_type": "code",
      "metadata": {
        "id": "ugGqU4y-LZ39",
        "colab_type": "code",
        "colab": {
          "base_uri": "https://localhost:8080/",
          "height": 34
        },
        "outputId": "33b6391e-9c3d-4f28-d64a-e4e396b31589"
      },
      "source": [
        "# updated Tuple is displayed\n",
        "tup"
      ],
      "execution_count": null,
      "outputs": [
        {
          "output_type": "execute_result",
          "data": {
            "text/plain": [
              "['Mohan', 'Raja', 'Ram', 'Roy']"
            ]
          },
          "metadata": {
            "tags": []
          },
          "execution_count": 121
        }
      ]
    },
    {
      "cell_type": "markdown",
      "metadata": {
        "id": "jVnZszbGNHRn",
        "colab_type": "text"
      },
      "source": [
        "## ***STRING***"
      ]
    },
    {
      "cell_type": "code",
      "metadata": {
        "id": "sZg4Qn4sNMH3",
        "colab_type": "code",
        "colab": {}
      },
      "source": [
        "# two string is created name and name1\n",
        "name = \"Veena Rai\"\n",
        "name1 = \"Arjun Roy\""
      ],
      "execution_count": null,
      "outputs": []
    },
    {
      "cell_type": "code",
      "metadata": {
        "id": "8f-4y0LsOKOE",
        "colab_type": "code",
        "colab": {
          "base_uri": "https://localhost:8080/",
          "height": 35
        },
        "outputId": "24ec54ec-fa72-417c-8dd2-81c23a0e0c45"
      },
      "source": [
        "# name string is displayed\n",
        "name"
      ],
      "execution_count": null,
      "outputs": [
        {
          "output_type": "execute_result",
          "data": {
            "application/vnd.google.colaboratory.intrinsic+json": {
              "type": "string"
            },
            "text/plain": [
              "'Veena Rai'"
            ]
          },
          "metadata": {
            "tags": []
          },
          "execution_count": 157
        }
      ]
    },
    {
      "cell_type": "code",
      "metadata": {
        "id": "zquMqqzoOMQl",
        "colab_type": "code",
        "colab": {}
      },
      "source": [
        "# new string is created with the name newname which is the addition of name and name1\n",
        "newname = name + ' '  + name1"
      ],
      "execution_count": null,
      "outputs": []
    },
    {
      "cell_type": "code",
      "metadata": {
        "id": "9Q3n5kR_QCmE",
        "colab_type": "code",
        "colab": {
          "base_uri": "https://localhost:8080/",
          "height": 35
        },
        "outputId": "781b023f-5962-4bdc-b1e5-02d9c227cc73"
      },
      "source": [
        "# newname string is displayed\n",
        "newname"
      ],
      "execution_count": null,
      "outputs": [
        {
          "output_type": "execute_result",
          "data": {
            "application/vnd.google.colaboratory.intrinsic+json": {
              "type": "string"
            },
            "text/plain": [
              "'Veena Rai Arjun Roy'"
            ]
          },
          "metadata": {
            "tags": []
          },
          "execution_count": 159
        }
      ]
    },
    {
      "cell_type": "code",
      "metadata": {
        "id": "Yr5KPiUmOWep",
        "colab_type": "code",
        "colab": {
          "base_uri": "https://localhost:8080/",
          "height": 34
        },
        "outputId": "2d7f98c8-5dcf-44ab-b724-6d5248bc9215"
      },
      "source": [
        "# type() is used for knowing the data type\n",
        "type(newname)"
      ],
      "execution_count": null,
      "outputs": [
        {
          "output_type": "execute_result",
          "data": {
            "text/plain": [
              "str"
            ]
          },
          "metadata": {
            "tags": []
          },
          "execution_count": 160
        }
      ]
    },
    {
      "cell_type": "code",
      "metadata": {
        "id": "C9jcVuSGPANC",
        "colab_type": "code",
        "colab": {
          "base_uri": "https://localhost:8080/",
          "height": 34
        },
        "outputId": "bd9a71ae-ca74-43ac-a23f-44d2106da878"
      },
      "source": [
        "# endswith() is used for knowing that from what string is ending with \n",
        "newname.endswith(\".\")"
      ],
      "execution_count": null,
      "outputs": [
        {
          "output_type": "execute_result",
          "data": {
            "text/plain": [
              "False"
            ]
          },
          "metadata": {
            "tags": []
          },
          "execution_count": 161
        }
      ]
    },
    {
      "cell_type": "code",
      "metadata": {
        "id": "YZvblfXOPRyI",
        "colab_type": "code",
        "colab": {
          "base_uri": "https://localhost:8080/",
          "height": 35
        },
        "outputId": "433f0546-2768-4bd6-d231-a6ec045a2e33"
      },
      "source": [
        "# expandtabs() is used to specified number of whitespaces.\n",
        "newname.expandtabs(2)"
      ],
      "execution_count": null,
      "outputs": [
        {
          "output_type": "execute_result",
          "data": {
            "application/vnd.google.colaboratory.intrinsic+json": {
              "type": "string"
            },
            "text/plain": [
              "'Veena Rai Arjun Roy'"
            ]
          },
          "metadata": {
            "tags": []
          },
          "execution_count": 162
        }
      ]
    },
    {
      "cell_type": "code",
      "metadata": {
        "id": "aynH_9k0Qc2U",
        "colab_type": "code",
        "colab": {
          "base_uri": "https://localhost:8080/",
          "height": 34
        },
        "outputId": "56a73364-f409-4e80-8487-2dec689c8934"
      },
      "source": [
        "# isspace() is used for string handling\n",
        "newname.isspace()"
      ],
      "execution_count": null,
      "outputs": [
        {
          "output_type": "execute_result",
          "data": {
            "text/plain": [
              "False"
            ]
          },
          "metadata": {
            "tags": []
          },
          "execution_count": 148
        }
      ]
    },
    {
      "cell_type": "code",
      "metadata": {
        "id": "JR04THAAQ14i",
        "colab_type": "code",
        "colab": {
          "base_uri": "https://localhost:8080/",
          "height": 35
        },
        "outputId": "11e9c1cd-053f-4114-ab87-f2f6020e2251"
      },
      "source": [
        "# formate() is used for formatted string\n",
        "newname.format()"
      ],
      "execution_count": null,
      "outputs": [
        {
          "output_type": "execute_result",
          "data": {
            "application/vnd.google.colaboratory.intrinsic+json": {
              "type": "string"
            },
            "text/plain": [
              "'Veena Rai Arjun Roy'"
            ]
          },
          "metadata": {
            "tags": []
          },
          "execution_count": 169
        }
      ]
    },
    {
      "cell_type": "code",
      "metadata": {
        "id": "VuCW1FwaR4X0",
        "colab_type": "code",
        "colab": {}
      },
      "source": [
        ""
      ],
      "execution_count": null,
      "outputs": []
    }
  ]
}