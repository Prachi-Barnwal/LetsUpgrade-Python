{
  "nbformat": 4,
  "nbformat_minor": 0,
  "metadata": {
    "colab": {
      "name": "python Day 8",
      "provenance": [],
      "collapsed_sections": []
    },
    "kernelspec": {
      "name": "python3",
      "display_name": "Python 3"
    }
  },
  "cells": [
    {
      "cell_type": "code",
      "metadata": {
        "id": "DOdTJR-RE2Nr",
        "colab_type": "code",
        "colab": {
          "base_uri": "https://localhost:8080/",
          "height": 34
        },
        "outputId": "32fa16af-3155-406a-8c4e-13c912ffeb83"
      },
      "source": [
        "print(\"LetsUpgrade - Day 8 Assignment of python \");"
      ],
      "execution_count": null,
      "outputs": [
        {
          "output_type": "stream",
          "text": [
            "LetsUpgrade - Day 8 Assignment of python \n"
          ],
          "name": "stdout"
        }
      ]
    },
    {
      "cell_type": "markdown",
      "metadata": {
        "id": "HV6TCCKxFW8c",
        "colab_type": "text"
      },
      "source": [
        "## ***Question 1 :-***\n"
      ]
    },
    {
      "cell_type": "code",
      "metadata": {
        "id": "Pd8fiV14FbHz",
        "colab_type": "code",
        "colab": {}
      },
      "source": [
        "# Write a decorator function for your taking input for you any kind of function you want to build, \n",
        "# For example- you make a fibonacci series function, in which your input range is been defined by the decorator program input."
      ],
      "execution_count": null,
      "outputs": []
    },
    {
      "cell_type": "code",
      "metadata": {
        "id": "BY8G6iijFgHE",
        "colab_type": "code",
        "colab": {}
      },
      "source": [
        "# decorator function\n",
        "\n",
        "def getInput(calculate_arg_fun):\n",
        "    def wrap_function():\n",
        "        r = int(input(\"Hey Guys Enter the Series Range : \"))\n",
        "        calculate_arg_fun(r)   \n",
        "    return wrap_function\n"
      ],
      "execution_count": null,
      "outputs": []
    },
    {
      "cell_type": "code",
      "metadata": {
        "id": "V2iCkuYuO2fb",
        "colab_type": "code",
        "colab": {}
      },
      "source": [
        "@getInput\n",
        "def fibonacci_series(s):\n",
        "    print(\"Fibonacci Series is : \")\n",
        "    m=0;\n",
        "    a = 0\n",
        "    b = 1\n",
        "    s = s - 2\n",
        "    print(0)\n",
        "    print(1)\n",
        "    while (m<s):\n",
        "      c=a+b\n",
        "      print(c)\n",
        "      a=b\n",
        "      b=c\n",
        "      m=m+1"
      ],
      "execution_count": null,
      "outputs": []
    },
    {
      "cell_type": "code",
      "metadata": {
        "id": "IHZdKEsOO2-7",
        "colab_type": "code",
        "colab": {
          "base_uri": "https://localhost:8080/",
          "height": 204
        },
        "outputId": "8ec8d5f5-c329-417e-efc3-3d9c690fcda2"
      },
      "source": [
        "fibonacci_series()"
      ],
      "execution_count": null,
      "outputs": [
        {
          "output_type": "stream",
          "text": [
            "Hey Guys Enter the Series Range : 9\n",
            "Fibonacci Series is : \n",
            "0\n",
            "1\n",
            "1\n",
            "2\n",
            "3\n",
            "5\n",
            "8\n",
            "13\n",
            "21\n"
          ],
          "name": "stdout"
        }
      ]
    },
    {
      "cell_type": "markdown",
      "metadata": {
        "id": "7X3y9X2VFgnz",
        "colab_type": "text"
      },
      "source": [
        "## ***Question 2 :-***"
      ]
    },
    {
      "cell_type": "code",
      "metadata": {
        "id": "-ohof76MFg_9",
        "colab_type": "code",
        "colab": {}
      },
      "source": [
        "# For this challenge you need to develop a python program to open a file in read only mode and try writing something to it and handle the subsequent errors using Exception Handling."
      ],
      "execution_count": null,
      "outputs": []
    },
    {
      "cell_type": "code",
      "metadata": {
        "id": "sXkvwK2QFhNh",
        "colab_type": "code",
        "colab": {}
      },
      "source": [
        "#  New File is Created\n",
        "\n",
        "file = open(\"note.txt\",\"w\")\n",
        "file.write(\"Hey Guys LetsUpgrade is a plateform from where we can learn about many courses. \")\n",
        "file.write(\"\\nLetsUpgrade also provides many facilities to their students. \")\n",
        "file.close()\n"
      ],
      "execution_count": null,
      "outputs": []
    },
    {
      "cell_type": "code",
      "metadata": {
        "id": "K8iAfK_hUpYR",
        "colab_type": "code",
        "colab": {
          "base_uri": "https://localhost:8080/",
          "height": 51
        },
        "outputId": "4b8c45f4-abeb-45de-8db6-bab8d7b6efd7"
      },
      "source": [
        "# This is Read Only Mode of created File\n",
        "try:\n",
        "    file = open(\"note.txt\",\"r\")\n",
        "    fileData = file.read()\n",
        "    file.write(\"Nowadays LetsUpgrade is organizing one Hackathon\")\n",
        "    print(fileData)\n",
        "    file.close()\n",
        "\n",
        "except Exception as e:\n",
        "    print(e)\n",
        "\n",
        "finally:\n",
        "    print(\"The Code may contain Error but it is Executed \")"
      ],
      "execution_count": null,
      "outputs": [
        {
          "output_type": "stream",
          "text": [
            "not writable\n",
            "The Code may contain Error but it is Executed \n"
          ],
          "name": "stdout"
        }
      ]
    },
    {
      "cell_type": "code",
      "metadata": {
        "id": "7eysUVMjcgve",
        "colab_type": "code",
        "colab": {}
      },
      "source": [
        ""
      ],
      "execution_count": null,
      "outputs": []
    }
  ]
}