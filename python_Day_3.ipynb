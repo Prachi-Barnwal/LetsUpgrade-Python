{
  "nbformat": 4,
  "nbformat_minor": 0,
  "metadata": {
    "colab": {
      "name": "python Day 3",
      "provenance": []
    },
    "kernelspec": {
      "name": "python3",
      "display_name": "Python 3"
    }
  },
  "cells": [
    {
      "cell_type": "code",
      "metadata": {
        "id": "f9kTfFXWP9YJ",
        "colab_type": "code",
        "colab": {
          "base_uri": "https://localhost:8080/",
          "height": 34
        },
        "outputId": "d44f37d1-6a05-4c12-9107-e4e2789fe9fe"
      },
      "source": [
        "print(\"LetsUpgrade - Day 3 Assignment of python \");"
      ],
      "execution_count": 1,
      "outputs": [
        {
          "output_type": "stream",
          "text": [
            "LetsUpgrade - Day 3 Assignment of python \n"
          ],
          "name": "stdout"
        }
      ]
    },
    {
      "cell_type": "markdown",
      "metadata": {
        "id": "vQ9pCyovBLuf",
        "colab_type": "text"
      },
      "source": [
        "## ***Assignment 1 :-***"
      ]
    },
    {
      "cell_type": "code",
      "metadata": {
        "id": "7IQalDvdQLY5",
        "colab_type": "code",
        "colab": {}
      },
      "source": [
        "# Question: You all are pilots, you have to land a plane, the altitude required for landing a plane is 1000ft, \n",
        "# if it is less than that tell pilot to land the plane, or it is more than that but less than 5000ft ask the pilot to come down to 1000ft, \n",
        "# else if it is more than 5000ft ask the pilot to go ground and try later."
      ],
      "execution_count": 2,
      "outputs": []
    },
    {
      "cell_type": "code",
      "metadata": {
        "id": "uL_tLqJNSvnh",
        "colab_type": "code",
        "colab": {
          "base_uri": "https://localhost:8080/",
          "height": 51
        },
        "outputId": "ffee6571-7241-4a2a-94ce-db87054409d3"
      },
      "source": [
        "alt = int(input(\"Enter the Altitude : \"))\n",
        "if alt <= 1000:\n",
        "    print(\"Land the Plane\")\n",
        "elif 1000<alt<5000:\n",
        "    print(\"Come Down to 1000ft\")\n",
        "else :\n",
        "    print(\"Go to Ground And Try Later\")"
      ],
      "execution_count": 51,
      "outputs": [
        {
          "output_type": "stream",
          "text": [
            "Enter the Altitude : 3500\n",
            "Come Down to 1000ft\n"
          ],
          "name": "stdout"
        }
      ]
    },
    {
      "cell_type": "markdown",
      "metadata": {
        "id": "KOLn3GNPBbaQ",
        "colab_type": "text"
      },
      "source": [
        "## ***Assignment 2 :-***"
      ]
    },
    {
      "cell_type": "code",
      "metadata": {
        "id": "2WoLeSWJdrmj",
        "colab_type": "code",
        "colab": {}
      },
      "source": [
        "# Question: Using for loop please print all the prime numbers between 1-200 using FOR LOOP AND RANGE function."
      ],
      "execution_count": 44,
      "outputs": []
    },
    {
      "cell_type": "code",
      "metadata": {
        "id": "hyWqZh0lsJgQ",
        "colab_type": "code",
        "colab": {
          "base_uri": "https://localhost:8080/",
          "height": 799
        },
        "outputId": "1303b27d-32b4-4a03-8925-3b11b588a746"
      },
      "source": [
        "for num in range(1,200 + 1):  \n",
        "   if num > 1:  \n",
        "       for i in range(2,num):  \n",
        "           if (num % i) == 0:  \n",
        "               break  \n",
        "       else:  \n",
        "           print(num)  "
      ],
      "execution_count": 112,
      "outputs": [
        {
          "output_type": "stream",
          "text": [
            "2\n",
            "3\n",
            "5\n",
            "7\n",
            "11\n",
            "13\n",
            "17\n",
            "19\n",
            "23\n",
            "29\n",
            "31\n",
            "37\n",
            "41\n",
            "43\n",
            "47\n",
            "53\n",
            "59\n",
            "61\n",
            "67\n",
            "71\n",
            "73\n",
            "79\n",
            "83\n",
            "89\n",
            "97\n",
            "101\n",
            "103\n",
            "107\n",
            "109\n",
            "113\n",
            "127\n",
            "131\n",
            "137\n",
            "139\n",
            "149\n",
            "151\n",
            "157\n",
            "163\n",
            "167\n",
            "173\n",
            "179\n",
            "181\n",
            "191\n",
            "193\n",
            "197\n",
            "199\n"
          ],
          "name": "stdout"
        }
      ]
    },
    {
      "cell_type": "code",
      "metadata": {
        "id": "pLx4QHIG-NPz",
        "colab_type": "code",
        "colab": {}
      },
      "source": [
        ""
      ],
      "execution_count": null,
      "outputs": []
    }
  ]
}